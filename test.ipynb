{
 "cells": [
  {
   "cell_type": "code",
   "execution_count": 13,
   "metadata": {},
   "outputs": [],
   "source": [
    "import numpy as np\n",
    "import matplotlib.pyplot as plt\n",
    "from matplotlib.patches import Polygon"
   ]
  },
  {
   "cell_type": "code",
   "execution_count": 139,
   "metadata": {},
   "outputs": [],
   "source": [
    "mode = 'go_straight'\n",
    "detection = None\n",
    "destination = None\n",
    "prev_mode = None"
   ]
  },
  {
   "cell_type": "code",
   "execution_count": 104,
   "metadata": {},
   "outputs": [],
   "source": [
    "class_=[\"center\", \"left\", \"right\"]"
   ]
  },
  {
   "cell_type": "code",
   "execution_count": 105,
   "metadata": {},
   "outputs": [],
   "source": [
    "classes = [0, 0, 2, 1]"
   ]
  },
  {
   "cell_type": "code",
   "execution_count": 106,
   "metadata": {},
   "outputs": [],
   "source": [
    "masks = [\n",
    "    np.array([[0, 640], [640, 640], [500, 500], [140, 500]]),\n",
    "    np.array([[0, 640], [640, 640], [450, 460], [190, 460]]),\n",
    "    np.array([[0, 640], [50, 600], [100, 580], [150, 570], [200, 560],[240, 555], [300, 550], [400, 540], [500, 534], [570, 528], [600, 524], [640, 522], [640, 640]]),\n",
    "    np.array([[0, 640], [0, 522], [50, 524], [100, 528], [150, 534],[200, 540], [240, 545], [300, 555], [400, 570], [450, 576], [500, 585], [570, 600], [580, 605], [600, 610], [640, 640]])\n",
    "]"
   ]
  },
  {
   "cell_type": "code",
   "execution_count": 107,
   "metadata": {},
   "outputs": [
    {
     "data": {
      "image/png": "[encoded data removed]",
      "text/plain": [
       "<Figure size 600x600 with 1 Axes>"
      ]
     },
     "metadata": {},
     "output_type": "display_data"
    }
   ],
   "source": [
    "fig, ax = plt.subplots(figsize=(6, 6))\n",
    "\n",
    "for mask in masks:\n",
    "    polygon = Polygon(mask, closed=True, edgecolor='r', facecolor='none', linewidth=1)\n",
    "    ax.add_patch(polygon)\n",
    "\n",
    "ax.set_xlim(0, 640)\n",
    "ax.set_ylim(0, 640)\n",
    "ax.set_aspect('equal')\n",
    "ax.set_facecolor('white')\n",
    "ax.invert_yaxis()\n",
    "plt.show()"
   ]
  },
  {
   "cell_type": "markdown",
   "metadata": {},
   "source": [
    "global path planning 결과 + 도로 상황(like 표지판, 장애물)에 따라 제어 명령이 달라진다."
   ]
  },
  {
   "cell_type": "code",
   "execution_count": 141,
   "metadata": {},
   "outputs": [],
   "source": [
    "cnt = 0"
   ]
  },
  {
   "cell_type": "code",
   "execution_count": null,
   "metadata": {},
   "outputs": [],
   "source": [
    "def change_center():\n",
    "    "
   ]
  },
  {
   "cell_type": "code",
   "execution_count": 142,
   "metadata": {},
   "outputs": [
    {
     "name": "stdout",
     "output_type": "stream",
     "text": [
      "1\n",
      "2\n",
      "3\n",
      "4\n"
     ]
    }
   ],
   "source": [
    "if masks != None:\n",
    "    for cls_id, mask in zip(classes, masks):\n",
    "        cnt += 1\n",
    "        print(cnt)\n",
    "        if cnt == 3:\n",
    "            detection = 'go_right'\n",
    "\n",
    "        if prev_mode != detection and 2 in classes:\n",
    "            mode = detection\n",
    "            change_center()\n",
    "            \n",
    "        prev_mode = mode\n",
    "            "
   ]
  },
  {
   "cell_type": "code",
   "execution_count": 143,
   "metadata": {},
   "outputs": [
    {
     "name": "stdout",
     "output_type": "stream",
     "text": [
      "go_right\n"
     ]
    }
   ],
   "source": [
    "print(mode)"
   ]
  },
  {
   "cell_type": "code",
   "execution_count": 74,
   "metadata": {},
   "outputs": [],
   "source": [
    "match destination:\n",
    "    case 'go_right':\n",
    "        print(\"success\")"
   ]
  },
  {
   "cell_type": "code",
   "execution_count": 25,
   "metadata": {},
   "outputs": [
    {
     "name": "stdout",
     "output_type": "stream",
     "text": [
      "(4, 2)\n"
     ]
    }
   ],
   "source": [
    "print(masks[0].shape)"
   ]
  },
  {
   "cell_type": "code",
   "execution_count": null,
   "metadata": {},
   "outputs": [],
   "source": []
  }
 ],
 "metadata": {
  "kernelspec": {
   "display_name": "EDA_venv",
   "language": "python",
   "name": "python3"
  },
  "language_info": {
   "codemirror_mode": {
    "name": "ipython",
    "version": 3
   },
   "file_extension": ".py",
   "mimetype": "text/x-python",
   "name": "python",
   "nbconvert_exporter": "python",
   "pygments_lexer": "ipython3",
   "version": "3.10.12"
  }
 },
 "nbformat": 4,
 "nbformat_minor": 2
}
